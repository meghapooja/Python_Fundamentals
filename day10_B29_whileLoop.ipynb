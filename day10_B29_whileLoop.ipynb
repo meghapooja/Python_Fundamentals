{
 "cells": [
  {
   "cell_type": "code",
   "execution_count": 1,
   "metadata": {},
   "outputs": [],
   "source": [
    "#****************************Introduction to while loops*************************************"
   ]
  },
  {
   "cell_type": "code",
   "execution_count": 2,
   "metadata": {},
   "outputs": [
    {
     "name": "stdout",
     "output_type": "stream",
     "text": [
      "1\n",
      "2\n",
      "3\n",
      "4\n",
      "5\n"
     ]
    }
   ],
   "source": [
    "current_number = 1\n",
    "\n",
    "while current_number <= 5:\n",
    "    print(current_number)\n",
    "    current_number += 1"
   ]
  },
  {
   "cell_type": "code",
   "execution_count": 3,
   "metadata": {},
   "outputs": [],
   "source": [
    "#Requirement: let the user choose the quit scenario"
   ]
  },
  {
   "cell_type": "code",
   "execution_count": 4,
   "metadata": {},
   "outputs": [],
   "source": [
    "prompt = \"\\nTell me something and I will repeate it\"\n",
    "prompt += \"\\nEnter quit to exit the program\""
   ]
  },
  {
   "cell_type": "code",
   "execution_count": 5,
   "metadata": {},
   "outputs": [
    {
     "name": "stdout",
     "output_type": "stream",
     "text": [
      "\n",
      "Tell me something and I will repeate it\n",
      "Enter quit to exit the programhi\n",
      "hi\n",
      "\n",
      "Tell me something and I will repeate it\n",
      "Enter quit to exit the programhow do you do?\n",
      "how do you do?\n",
      "\n",
      "Tell me something and I will repeate it\n",
      "Enter quit to exit the programall the best\n",
      "all the best\n",
      "\n",
      "Tell me something and I will repeate it\n",
      "Enter quit to exit the programquit\n",
      "quit\n"
     ]
    }
   ],
   "source": [
    "message = \" \"\n",
    "while message != \"quit\":\n",
    "    message = input(prompt)\n",
    "    print(message)"
   ]
  },
  {
   "cell_type": "code",
   "execution_count": 6,
   "metadata": {},
   "outputs": [],
   "source": [
    "#Requirement: use \"break\" to exit from the loop"
   ]
  },
  {
   "cell_type": "code",
   "execution_count": 7,
   "metadata": {},
   "outputs": [],
   "source": [
    "prompt = \"\\nPlease enter the city that you have visited:\"\n",
    "prompt += \"\\nEnter quit to exit the program.\""
   ]
  },
  {
   "cell_type": "code",
   "execution_count": 16,
   "metadata": {},
   "outputs": [
    {
     "name": "stdout",
     "output_type": "stream",
     "text": [
      "\n",
      "Please enter the city that you have visited:\n",
      "Enter quit to exit the program.munnar\n",
      "I'd love to visit Munnar!\n",
      "\n",
      "Please enter the city that you have visited:\n",
      "Enter quit to exit the program.coorg\n",
      "I'd love to visit Coorg!\n",
      "\n",
      "Please enter the city that you have visited:\n",
      "Enter quit to exit the program.quit\n"
     ]
    }
   ],
   "source": [
    "while True:\n",
    "    city = input(prompt)\n",
    "    if city == \"quit\":\n",
    "        break\n",
    "    else:\n",
    "        print(f\"I'd love to visit {city.title()}!\")"
   ]
  },
  {
   "cell_type": "code",
   "execution_count": 17,
   "metadata": {},
   "outputs": [],
   "source": [
    "#Requirement: use \"continue\" in the loop"
   ]
  },
  {
   "cell_type": "code",
   "execution_count": 18,
   "metadata": {},
   "outputs": [],
   "source": [
    "#I want to count the numbers from 1 to 10, but I want to print only odd numbers "
   ]
  },
  {
   "cell_type": "code",
   "execution_count": 6,
   "metadata": {},
   "outputs": [
    {
     "name": "stdout",
     "output_type": "stream",
     "text": [
      "1\n",
      "3\n",
      "5\n",
      "7\n",
      "9\n"
     ]
    }
   ],
   "source": [
    "current_number = 0\n",
    "\n",
    "while current_number < 10:\n",
    "    current_number += 1\n",
    "    \n",
    "    if current_number%2 == 0:\n",
    "        continue\n",
    "    else:\n",
    "        print(current_number)"
   ]
  },
  {
   "cell_type": "code",
   "execution_count": null,
   "metadata": {},
   "outputs": [],
   "source": []
  }
 ],
 "metadata": {
  "kernelspec": {
   "display_name": "Python 3",
   "language": "python",
   "name": "python3"
  },
  "language_info": {
   "codemirror_mode": {
    "name": "ipython",
    "version": 3
   },
   "file_extension": ".py",
   "mimetype": "text/x-python",
   "name": "python",
   "nbconvert_exporter": "python",
   "pygments_lexer": "ipython3",
   "version": "3.8.3"
  }
 },
 "nbformat": 4,
 "nbformat_minor": 4
}
