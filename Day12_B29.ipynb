{
 "cells": [
  {
   "cell_type": "code",
   "execution_count": 3,
   "metadata": {},
   "outputs": [],
   "source": [
    "def display_pet(animal_type, pet_name):\n",
    "    \"\"\"creating a function to know the pet and its name\"\"\"\n",
    "    print(f\"I have a {animal_type}\")\n",
    "    print(f\"my pet {animal_type}'s name is {pet_name}\")"
   ]
  },
  {
   "cell_type": "code",
   "execution_count": 4,
   "metadata": {},
   "outputs": [
    {
     "name": "stdout",
     "output_type": "stream",
     "text": [
      "I have a dog\n",
      "my pet dog's name is roger\n"
     ]
    }
   ],
   "source": [
    "display_pet('dog','roger')"
   ]
  },
  {
   "cell_type": "code",
   "execution_count": 5,
   "metadata": {},
   "outputs": [
    {
     "name": "stdout",
     "output_type": "stream",
     "text": [
      "I have a dog\n",
      "my pet dog's name is babble\n",
      "I have a cat\n",
      "my pet cat's name is kunchu\n"
     ]
    }
   ],
   "source": [
    "#doing multiple function calls at a time\n",
    "\n",
    "display_pet('dog','babble')\n",
    "display_pet('cat','kunchu')"
   ]
  },
  {
   "cell_type": "code",
   "execution_count": 6,
   "metadata": {},
   "outputs": [
    {
     "name": "stdout",
     "output_type": "stream",
     "text": [
      "I have a fox\n",
      "my pet fox's name is thor\n"
     ]
    }
   ],
   "source": [
    "#types of arguments\n",
    "\n",
    "#1.positional arguments\n",
    "\n",
    "display_pet('fox','thor')"
   ]
  },
  {
   "cell_type": "code",
   "execution_count": 7,
   "metadata": {},
   "outputs": [
    {
     "name": "stdout",
     "output_type": "stream",
     "text": [
      "I have a duck\n",
      "my pet duck's name is lupi\n"
     ]
    }
   ],
   "source": [
    "#2.keryword arguments\n",
    "\n",
    "display_pet(pet_name='lupi',animal_type='duck')"
   ]
  },
  {
   "cell_type": "code",
   "execution_count": 8,
   "metadata": {},
   "outputs": [
    {
     "ename": "TypeError",
     "evalue": "display_pet() missing 1 required positional argument: 'pet_name'",
     "output_type": "error",
     "traceback": [
      "\u001b[1;31m---------------------------------------------------------------------------\u001b[0m",
      "\u001b[1;31mTypeError\u001b[0m                                 Traceback (most recent call last)",
      "\u001b[1;32m<ipython-input-8-08990e43f9d3>\u001b[0m in \u001b[0;36m<module>\u001b[1;34m\u001b[0m\n\u001b[0;32m      1\u001b[0m \u001b[1;31m#3.default arguments\u001b[0m\u001b[1;33m\u001b[0m\u001b[1;33m\u001b[0m\u001b[1;33m\u001b[0m\u001b[0m\n\u001b[0;32m      2\u001b[0m \u001b[1;33m\u001b[0m\u001b[0m\n\u001b[1;32m----> 3\u001b[1;33m \u001b[0mdisplay_pet\u001b[0m\u001b[1;33m(\u001b[0m\u001b[1;34m'thor'\u001b[0m\u001b[1;33m)\u001b[0m\u001b[1;33m\u001b[0m\u001b[1;33m\u001b[0m\u001b[0m\n\u001b[0m",
      "\u001b[1;31mTypeError\u001b[0m: display_pet() missing 1 required positional argument: 'pet_name'"
     ]
    }
   ],
   "source": [
    "#3.default arguments\n",
    "\n",
    "display_pet('thor')"
   ]
  },
  {
   "cell_type": "code",
   "execution_count": 9,
   "metadata": {},
   "outputs": [
    {
     "ename": "SyntaxError",
     "evalue": "non-default argument follows default argument (<ipython-input-9-f3b4fcf8fe9e>, line 3)",
     "output_type": "error",
     "traceback": [
      "\u001b[1;36m  File \u001b[1;32m\"<ipython-input-9-f3b4fcf8fe9e>\"\u001b[1;36m, line \u001b[1;32m3\u001b[0m\n\u001b[1;33m    def display_pet(animal_type='dog', pet_name):\u001b[0m\n\u001b[1;37m                    ^\u001b[0m\n\u001b[1;31mSyntaxError\u001b[0m\u001b[1;31m:\u001b[0m non-default argument follows default argument\n"
     ]
    }
   ],
   "source": [
    "#to solve the above issue we use default parameters.\n",
    "\n",
    "def display_pet(animal_type='dog', pet_name):\n",
    "    \"\"\"creating a function to know the pet and its name\"\"\"\n",
    "    print(f\"I have a {animal_type}\")\n",
    "    print(f\"my pet {animal_type}'s name is {pet_name}\")"
   ]
  },
  {
   "cell_type": "code",
   "execution_count": 10,
   "metadata": {},
   "outputs": [],
   "source": [
    "#the above error says that default argument should be defined at the end."
   ]
  },
  {
   "cell_type": "code",
   "execution_count": 11,
   "metadata": {},
   "outputs": [],
   "source": [
    "def display_pet(pet_name,animal_type='dog'):\n",
    "    \"\"\"creating a function to know the pet and its name\"\"\"\n",
    "    print(f\"I have a {animal_type}\")\n",
    "    print(f\"my pet {animal_type}'s name is {pet_name}\")"
   ]
  },
  {
   "cell_type": "code",
   "execution_count": 12,
   "metadata": {},
   "outputs": [
    {
     "name": "stdout",
     "output_type": "stream",
     "text": [
      "I have a dog\n",
      "my pet dog's name is thor\n"
     ]
    }
   ],
   "source": [
    "display_pet('thor')"
   ]
  },
  {
   "cell_type": "code",
   "execution_count": 13,
   "metadata": {},
   "outputs": [
    {
     "name": "stdout",
     "output_type": "stream",
     "text": [
      "I have a thor\n",
      "my pet thor's name is fox\n"
     ]
    }
   ],
   "source": [
    "display_pet('fox','thor')"
   ]
  },
  {
   "cell_type": "code",
   "execution_count": null,
   "metadata": {},
   "outputs": [],
   "source": []
  }
 ],
 "metadata": {
  "kernelspec": {
   "display_name": "Python 3",
   "language": "python",
   "name": "python3"
  },
  "language_info": {
   "codemirror_mode": {
    "name": "ipython",
    "version": 3
   },
   "file_extension": ".py",
   "mimetype": "text/x-python",
   "name": "python",
   "nbconvert_exporter": "python",
   "pygments_lexer": "ipython3",
   "version": "3.8.3"
  }
 },
 "nbformat": 4,
 "nbformat_minor": 4
}
