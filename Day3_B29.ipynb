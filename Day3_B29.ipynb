{
 "cells": [
  {
   "cell_type": "code",
   "execution_count": 2,
   "metadata": {},
   "outputs": [
    {
     "name": "stdout",
     "output_type": "stream",
     "text": [
      "Hi megha.ch, Welcome to the world of PYTHON...!\n"
     ]
    }
   ],
   "source": [
    "#f strings ------> used to club the data of two different variables\n",
    "\n",
    "first_name = 'megha'\n",
    "last_name = 'ch'\n",
    "\n",
    "full_name = f\"Hi {first_name}.{last_name}, Welcome to the world of PYTHON...!\"\n",
    "\n",
    "print(full_name)"
   ]
  },
  {
   "cell_type": "code",
   "execution_count": 5,
   "metadata": {},
   "outputs": [
    {
     "name": "stdout",
     "output_type": "stream",
     "text": [
      "favourite_chocolates:ferrorochergalaxykitkathersheyskissessnickersmunchdairymilkfruitnnut\n"
     ]
    }
   ],
   "source": [
    "#adding white spaces to strings.....\n",
    "\n",
    "print(\"favourite_chocolates:ferrorochergalaxykitkathersheyskissessnickersmunchdairymilkfruitnnut\")"
   ]
  },
  {
   "cell_type": "code",
   "execution_count": 9,
   "metadata": {},
   "outputs": [
    {
     "name": "stdout",
     "output_type": "stream",
     "text": [
      "favourite_chocolates:\n",
      "ferrorocher\n",
      "kitkat\n",
      "hersheys-kisses\n",
      "snickers\n",
      "dairymilk-fruitnnut\n"
     ]
    }
   ],
   "source": [
    "#\\n--->newline delimiter\n",
    "\n",
    "print(\"favourite_chocolates:\\nferrorocher\\nkitkat\\nhersheys-kisses\\nsnickers\\ndairymilk-fruitnnut\")"
   ]
  },
  {
   "cell_type": "code",
   "execution_count": 10,
   "metadata": {},
   "outputs": [
    {
     "name": "stdout",
     "output_type": "stream",
     "text": [
      "favourite_cars:\n",
      "\tporsche\n",
      "\tferrari\n",
      "\trollsroyce\n",
      "\tlamborghini\n"
     ]
    }
   ],
   "source": [
    "#\\t--->tab delimiter\n",
    "\n",
    "print(\"favourite_cars:\\n\\tporsche\\n\\tferrari\\n\\trollsroyce\\n\\tlamborghini\")"
   ]
  },
  {
   "cell_type": "code",
   "execution_count": 11,
   "metadata": {},
   "outputs": [
    {
     "name": "stdout",
     "output_type": "stream",
     "text": [
      "galaxy\n",
      "aston martin\n",
      "earth\n",
      "crab\n"
     ]
    }
   ],
   "source": [
    "#removing white spaces from strings  ----->  lstrip(), rstrip(), strip()\n",
    "\n",
    "chocolate = \"galaxy\"\n",
    "car       = \"    aston martin\"\n",
    "planet    = \"earth    \"\n",
    "nebula    = \"    crab    \"\n",
    "\n",
    "print(chocolate)\n",
    "print(car.lstrip())\n",
    "print(planet.rstrip())\n",
    "print(nebula.strip())"
   ]
  },
  {
   "cell_type": "code",
   "execution_count": null,
   "metadata": {},
   "outputs": [],
   "source": []
  }
 ],
 "metadata": {
  "kernelspec": {
   "display_name": "Python 3",
   "language": "python",
   "name": "python3"
  },
  "language_info": {
   "codemirror_mode": {
    "name": "ipython",
    "version": 3
   },
   "file_extension": ".py",
   "mimetype": "text/x-python",
   "name": "python",
   "nbconvert_exporter": "python",
   "pygments_lexer": "ipython3",
   "version": "3.8.3"
  }
 },
 "nbformat": 4,
 "nbformat_minor": 4
}
