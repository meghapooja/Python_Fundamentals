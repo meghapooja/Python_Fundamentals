{
 "cells": [
  {
   "cell_type": "code",
   "execution_count": 2,
   "metadata": {},
   "outputs": [],
   "source": [
    "***********************Introduction to PYTHON Classes*****************************\n",
    "\n",
    "CLASS: A class is a high-level blue print of the program.\n",
    "    \n",
    "METHOD: A function written inside a class.\n",
    "    \n",
    "ATTRIBUTE: A variable written inside the class.\n",
    "    \n",
    "SELF: A self is a temporary place holder for an object.\n",
    "    \n",
    "OBJECT: It is the access point into the class."
   ]
  },
  {
   "cell_type": "code",
   "execution_count": null,
   "metadata": {},
   "outputs": [],
   "source": [
    "Requirement: create a class with the name Greet.\n",
    "It should accept 3 methods:\n",
    "    1. createname ---> accepts the input from the user.\n",
    "    2. displayname ---> displays the name.\n",
    "    3. greetname ---> greet the person with that name."
   ]
  },
  {
   "cell_type": "code",
   "execution_count": 3,
   "metadata": {},
   "outputs": [],
   "source": [
    "class Greet:      #class creation\n",
    "    def createname(self,name):   #method creation and syntax--> self is mandatory\n",
    "        self.name = name         #object creation\n",
    "        \n",
    "    def displayname(self):       #method\n",
    "        print(self.name)\n",
    "        \n",
    "    def greetname(self):         #method\n",
    "        print(f\"Hello, {self.name}\")"
   ]
  },
  {
   "cell_type": "code",
   "execution_count": 4,
   "metadata": {},
   "outputs": [],
   "source": [
    "#object assignmnet to the class\n",
    "\n",
    "obj = Greet()"
   ]
  },
  {
   "cell_type": "code",
   "execution_count": 5,
   "metadata": {},
   "outputs": [
    {
     "name": "stdout",
     "output_type": "stream",
     "text": [
      "Megha\n",
      "Hello, Megha\n"
     ]
    }
   ],
   "source": [
    "obj.createname(\"Megha\")\n",
    "obj.displayname()\n",
    "obj.greetname()"
   ]
  },
  {
   "cell_type": "code",
   "execution_count": 14,
   "metadata": {},
   "outputs": [],
   "source": [
    "class Vote:      #class creation\n",
    "    def createname(self,name,age):   #method creation and syntax--> self is mandatory\n",
    "        self.name = name\n",
    "        self.age = age\n",
    "        \n",
    "    def displayname(self):       #method\n",
    "        print(self.name)\n",
    "        print(self.age)\n",
    "        \n",
    "    def greetname(self):         #method\n",
    "        if self.age > str(18):\n",
    "            print(f\"Hello, {self.name}! As your age is {self.age}, you are eligibble to vote\")\n",
    "        else:\n",
    "            print(f\"Hello, {self.name}! As your age is {self.age}, you are not eligibble to vote\")"
   ]
  },
  {
   "cell_type": "code",
   "execution_count": 15,
   "metadata": {},
   "outputs": [],
   "source": [
    "obj1 = Vote()"
   ]
  },
  {
   "cell_type": "code",
   "execution_count": 16,
   "metadata": {},
   "outputs": [
    {
     "name": "stdout",
     "output_type": "stream",
     "text": [
      "Megha\n",
      "20\n",
      "Hello, Megha! As your age is 20, you are eligibble to vote\n"
     ]
    }
   ],
   "source": [
    "obj1.createname('Megha','20')\n",
    "obj1.displayname()\n",
    "obj1.greetname()"
   ]
  },
  {
   "cell_type": "code",
   "execution_count": 17,
   "metadata": {},
   "outputs": [
    {
     "name": "stdout",
     "output_type": "stream",
     "text": [
      "Megha\n",
      "10\n",
      "Hello, Megha! As your age is 10, you are not eligibble to vote\n"
     ]
    }
   ],
   "source": [
    "obj1.createname('Megha','10')\n",
    "obj1.displayname()\n",
    "obj1.greetname()"
   ]
  },
  {
   "cell_type": "code",
   "execution_count": null,
   "metadata": {},
   "outputs": [],
   "source": []
  }
 ],
 "metadata": {
  "kernelspec": {
   "display_name": "Python 3",
   "language": "python",
   "name": "python3"
  },
  "language_info": {
   "codemirror_mode": {
    "name": "ipython",
    "version": 3
   },
   "file_extension": ".py",
   "mimetype": "text/x-python",
   "name": "python",
   "nbconvert_exporter": "python",
   "pygments_lexer": "ipython3",
   "version": "3.8.3"
  }
 },
 "nbformat": 4,
 "nbformat_minor": 4
}
