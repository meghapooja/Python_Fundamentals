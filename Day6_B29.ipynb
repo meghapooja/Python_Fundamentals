{
 "cells": [
  {
   "cell_type": "code",
   "execution_count": 3,
   "metadata": {},
   "outputs": [
    {
     "name": "stdout",
     "output_type": "stream",
     "text": [
      "['captain', 'marvel', 'ironman', 'hulk', 'antman', 'thor', 'spiderman', 'batman', 'thanos']\n"
     ]
    }
   ],
   "source": [
    "super_heroes = ['captain','marvel','ironman','hulk','antman','thor','spiderman','batman','thanos']\n",
    "\n",
    "print(super_heroes)"
   ]
  },
  {
   "cell_type": "code",
   "execution_count": null,
   "metadata": {},
   "outputs": [],
   "source": [
    "#requirement is to get every alternate element from the list in a group..."
   ]
  },
  {
   "cell_type": "code",
   "execution_count": 5,
   "metadata": {},
   "outputs": [
    {
     "name": "stdout",
     "output_type": "stream",
     "text": [
      "['captain', 'ironman', 'antman', 'spiderman']\n"
     ]
    }
   ],
   "source": [
    "print(super_heroes[0:8:2])"
   ]
  },
  {
   "cell_type": "code",
   "execution_count": 6,
   "metadata": {},
   "outputs": [
    {
     "name": "stdout",
     "output_type": "stream",
     "text": [
      "['captain', 'ironman', 'antman', 'spiderman', 'thanos']\n"
     ]
    }
   ],
   "source": [
    "print(super_heroes[0:9:2])"
   ]
  },
  {
   "cell_type": "code",
   "execution_count": null,
   "metadata": {},
   "outputs": [],
   "source": [
    "#*******************FOR Loops*************************#"
   ]
  },
  {
   "cell_type": "code",
   "execution_count": 21,
   "metadata": {},
   "outputs": [
    {
     "name": "stdout",
     "output_type": "stream",
     "text": [
      "['abdulkalam', 'edison', 'einstein', 'grahambell', 'marconi', 'hawkins', 'stevejobs']\n"
     ]
    }
   ],
   "source": [
    "scientists = ['abdulkalam','edison','einstein','grahambell','marconi','hawkins','stevejobs']\n",
    "print(scientists)"
   ]
  },
  {
   "cell_type": "code",
   "execution_count": 24,
   "metadata": {},
   "outputs": [
    {
     "name": "stdout",
     "output_type": "stream",
     "text": [
      "thanks for your invention,abdulkalam sir\n"
     ]
    }
   ],
   "source": [
    "#requirement is to respect all the scientists for their iinventions\n",
    "\n",
    "print(f\"thanks for your invention,{scientists[0]} sir\")"
   ]
  },
  {
   "cell_type": "code",
   "execution_count": 25,
   "metadata": {},
   "outputs": [
    {
     "name": "stdout",
     "output_type": "stream",
     "text": [
      "thanks for your invention,Abdulkalam sir\n"
     ]
    }
   ],
   "source": [
    "print(f\"thanks for your invention,{scientists[0].title()} sir\")"
   ]
  },
  {
   "cell_type": "code",
   "execution_count": 26,
   "metadata": {},
   "outputs": [
    {
     "name": "stdout",
     "output_type": "stream",
     "text": [
      "thanks for your invention ['abdulkalam', 'edison', 'einstein', 'grahambell', 'marconi', 'hawkins', 'stevejobs'] sir\n",
      "you are an inspiration for all the youngsters across the globe...!\n",
      "thanks for your invention ['abdulkalam', 'edison', 'einstein', 'grahambell', 'marconi', 'hawkins', 'stevejobs'] sir\n",
      "you are an inspiration for all the youngsters across the globe...!\n",
      "thanks for your invention ['abdulkalam', 'edison', 'einstein', 'grahambell', 'marconi', 'hawkins', 'stevejobs'] sir\n",
      "you are an inspiration for all the youngsters across the globe...!\n",
      "thanks for your invention ['abdulkalam', 'edison', 'einstein', 'grahambell', 'marconi', 'hawkins', 'stevejobs'] sir\n",
      "you are an inspiration for all the youngsters across the globe...!\n",
      "thanks for your invention ['abdulkalam', 'edison', 'einstein', 'grahambell', 'marconi', 'hawkins', 'stevejobs'] sir\n",
      "you are an inspiration for all the youngsters across the globe...!\n",
      "thanks for your invention ['abdulkalam', 'edison', 'einstein', 'grahambell', 'marconi', 'hawkins', 'stevejobs'] sir\n",
      "you are an inspiration for all the youngsters across the globe...!\n",
      "thanks for your invention ['abdulkalam', 'edison', 'einstein', 'grahambell', 'marconi', 'hawkins', 'stevejobs'] sir\n",
      "you are an inspiration for all the youngsters across the globe...!\n"
     ]
    }
   ],
   "source": [
    "#usage of for loop...\n",
    "\n",
    "for ele in scientists:\n",
    "    print(f\"thanks for your invention {scientists} sir\")\n",
    "    print(f\"you are an inspiration for all the youngsters across the globe...!\")"
   ]
  },
  {
   "cell_type": "code",
   "execution_count": 28,
   "metadata": {},
   "outputs": [
    {
     "name": "stdout",
     "output_type": "stream",
     "text": [
      "thanks for your invention ['abdulkalam', 'edison', 'einstein', 'grahambell', 'marconi', 'hawkins', 'stevejobs'] sir\n",
      "you are an inspiration for all the youngsters across the globe...!\n",
      "\n",
      "thanks for your invention ['abdulkalam', 'edison', 'einstein', 'grahambell', 'marconi', 'hawkins', 'stevejobs'] sir\n",
      "you are an inspiration for all the youngsters across the globe...!\n",
      "\n",
      "thanks for your invention ['abdulkalam', 'edison', 'einstein', 'grahambell', 'marconi', 'hawkins', 'stevejobs'] sir\n",
      "you are an inspiration for all the youngsters across the globe...!\n",
      "\n",
      "thanks for your invention ['abdulkalam', 'edison', 'einstein', 'grahambell', 'marconi', 'hawkins', 'stevejobs'] sir\n",
      "you are an inspiration for all the youngsters across the globe...!\n",
      "\n",
      "thanks for your invention ['abdulkalam', 'edison', 'einstein', 'grahambell', 'marconi', 'hawkins', 'stevejobs'] sir\n",
      "you are an inspiration for all the youngsters across the globe...!\n",
      "\n",
      "thanks for your invention ['abdulkalam', 'edison', 'einstein', 'grahambell', 'marconi', 'hawkins', 'stevejobs'] sir\n",
      "you are an inspiration for all the youngsters across the globe...!\n",
      "\n",
      "thanks for your invention ['abdulkalam', 'edison', 'einstein', 'grahambell', 'marconi', 'hawkins', 'stevejobs'] sir\n",
      "you are an inspiration for all the youngsters across the globe...!\n",
      "\n"
     ]
    }
   ],
   "source": [
    "for ele in scientists:\n",
    "    print(f\"thanks for your invention {scientists} sir\")\n",
    "    print(f\"you are an inspiration for all the youngsters across the globe...!\\n\")"
   ]
  },
  {
   "cell_type": "code",
   "execution_count": null,
   "metadata": {},
   "outputs": [],
   "source": []
  }
 ],
 "metadata": {
  "kernelspec": {
   "display_name": "Python 3",
   "language": "python",
   "name": "python3"
  },
  "language_info": {
   "codemirror_mode": {
    "name": "ipython",
    "version": 3
   },
   "file_extension": ".py",
   "mimetype": "text/x-python",
   "name": "python",
   "nbconvert_exporter": "python",
   "pygments_lexer": "ipython3",
   "version": "3.8.3"
  }
 },
 "nbformat": 4,
 "nbformat_minor": 4
}
