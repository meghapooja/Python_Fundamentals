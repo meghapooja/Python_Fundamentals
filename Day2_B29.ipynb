{
 "cells": [
  {
   "cell_type": "code",
   "execution_count": 6,
   "metadata": {},
   "outputs": [
    {
     "name": "stdout",
     "output_type": "stream",
     "text": [
      "Megha\n"
     ]
    }
   ],
   "source": [
    "#declaring a variable\n",
    "\n",
    "#invalid variable declarations are ----> person name = 'Megha' , 4name = 'Megha' and n@me = 'Megha'\n",
    "\n",
    "person_name = 'Megha'\n",
    "print(person_name)"
   ]
  },
  {
   "cell_type": "code",
   "execution_count": 7,
   "metadata": {},
   "outputs": [
    {
     "name": "stdout",
     "output_type": "stream",
     "text": [
      "Megha\n",
      "Pooja\n",
      "Meghapooja\n"
     ]
    }
   ],
   "source": [
    "#datatypes ----> mutable, immutable\n",
    "\n",
    "# 1.strings ----> can be declared within '', \"\" & \"\"\" \"\"\".\n",
    "\n",
    "name = 'Megha'\n",
    "name1 = \"Pooja\"\n",
    "name2 = \"\"\"Meghapooja\"\"\"\n",
    "print(name)\n",
    "print(name1)\n",
    "print(name2)"
   ]
  },
  {
   "cell_type": "code",
   "execution_count": 9,
   "metadata": {},
   "outputs": [
    {
     "name": "stdout",
     "output_type": "stream",
     "text": [
      "megha pooja\n"
     ]
    }
   ],
   "source": [
    "#built-in methods of string -----> type, title\n",
    "\n",
    "type(name) #to test & validate the datatype\n",
    "\n",
    "full_name = 'megha pooja'\n",
    "print(full_name)"
   ]
  },
  {
   "cell_type": "code",
   "execution_count": 10,
   "metadata": {},
   "outputs": [
    {
     "name": "stdout",
     "output_type": "stream",
     "text": [
      "Megha Pooja\n"
     ]
    }
   ],
   "source": [
    "print(full_name.title())"
   ]
  },
  {
   "cell_type": "code",
   "execution_count": null,
   "metadata": {},
   "outputs": [],
   "source": []
  }
 ],
 "metadata": {
  "kernelspec": {
   "display_name": "Python 3",
   "language": "python",
   "name": "python3"
  },
  "language_info": {
   "codemirror_mode": {
    "name": "ipython",
    "version": 3
   },
   "file_extension": ".py",
   "mimetype": "text/x-python",
   "name": "python",
   "nbconvert_exporter": "python",
   "pygments_lexer": "ipython3",
   "version": "3.8.3"
  }
 },
 "nbformat": 4,
 "nbformat_minor": 4
}
