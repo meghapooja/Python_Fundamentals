{
 "cells": [
  {
   "cell_type": "code",
   "execution_count": 1,
   "metadata": {},
   "outputs": [],
   "source": [
    "#****************************Introduction to FUNCTIONS*************************************#\n",
    "\n",
    "'def' is the Key word to declare a function.\n",
    "in python function_name should be given in small letters."
   ]
  },
  {
   "cell_type": "code",
   "execution_count": 4,
   "metadata": {},
   "outputs": [],
   "source": [
    "def greet():           #Function definition\n",
    "    \"\"\"creating a function to greet\"\"\"  #doc string:  commenting inside a function\n",
    "    print(\"Hello....!\")"
   ]
  },
  {
   "cell_type": "code",
   "execution_count": 5,
   "metadata": {},
   "outputs": [
    {
     "name": "stdout",
     "output_type": "stream",
     "text": [
      "Hello....!\n"
     ]
    }
   ],
   "source": [
    "greet() #Function call"
   ]
  },
  {
   "cell_type": "code",
   "execution_count": 6,
   "metadata": {},
   "outputs": [],
   "source": [
    "def greet(username):  #parameter passing\n",
    "    print(f\"Hello {username}, welcome back to Amazon!\")"
   ]
  },
  {
   "cell_type": "code",
   "execution_count": 7,
   "metadata": {},
   "outputs": [
    {
     "name": "stdout",
     "output_type": "stream",
     "text": [
      "Hello Megha, welcome back to Amazon!\n"
     ]
    }
   ],
   "source": [
    "greet('Megha')"
   ]
  },
  {
   "cell_type": "code",
   "execution_count": 8,
   "metadata": {},
   "outputs": [
    {
     "name": "stdout",
     "output_type": "stream",
     "text": [
      "Hello Megha, welcome back to Amazon!\n"
     ]
    }
   ],
   "source": [
    "greet(\"Megha\") #argument passing"
   ]
  },
  {
   "cell_type": "code",
   "execution_count": 10,
   "metadata": {},
   "outputs": [],
   "source": [
    "#with the above example I got to know that doc_string is not mandatory but it helps other user to get proper knowledge about\n",
    "#the code and also helps us to recollect the things after long gap."
   ]
  },
  {
   "cell_type": "code",
   "execution_count": 13,
   "metadata": {},
   "outputs": [],
   "source": [
    "def describe_pet(animal_type, pet_name):\n",
    "    \"\"\"creating a function to know the pet and its name\"\"\"\n",
    "    print(f\"I have a {animal_type}\")\n",
    "    print(f\"my pet {animal_type}'s name is {pet_name}\")"
   ]
  },
  {
   "cell_type": "code",
   "execution_count": 14,
   "metadata": {},
   "outputs": [
    {
     "name": "stdout",
     "output_type": "stream",
     "text": [
      "I have a dog\n",
      "my pet dog's name is ginny\n"
     ]
    }
   ],
   "source": [
    "describe_pet('dog', 'ginny')"
   ]
  },
  {
   "cell_type": "code",
   "execution_count": 17,
   "metadata": {},
   "outputs": [],
   "source": [
    "def describe_pet(animal_type, pet_name):\n",
    "    \"\"\"creating a function to know the pet and its name\"\"\"\n",
    "    print(f\"I have a {animal_type}\")\n",
    "    print(f\"my pet {animal_type}'s name is {pet_name.title()}\")"
   ]
  },
  {
   "cell_type": "code",
   "execution_count": 18,
   "metadata": {},
   "outputs": [
    {
     "name": "stdout",
     "output_type": "stream",
     "text": [
      "I have a dog\n",
      "my pet dog's name is Ginny\n"
     ]
    }
   ],
   "source": [
    "describe_pet('dog', 'ginny')"
   ]
  },
  {
   "cell_type": "code",
   "execution_count": 23,
   "metadata": {},
   "outputs": [],
   "source": [
    "def describe_pet(animal_type, pet_name):\n",
    "    \"\"\"creating a function to know the pet and its name\"\"\"\n",
    "    print(f\"I have a {animal_type}\")\n",
    "    print(f\"my pet {animal_type}'s name is {pet_name.upper()}\")"
   ]
  },
  {
   "cell_type": "code",
   "execution_count": 24,
   "metadata": {},
   "outputs": [
    {
     "name": "stdout",
     "output_type": "stream",
     "text": [
      "I have a dog\n",
      "my pet dog's name is GINNY\n"
     ]
    }
   ],
   "source": [
    "describe_pet('dog', 'ginny')"
   ]
  },
  {
   "cell_type": "code",
   "execution_count": null,
   "metadata": {},
   "outputs": [],
   "source": []
  },
  {
   "cell_type": "code",
   "execution_count": null,
   "metadata": {},
   "outputs": [],
   "source": []
  }
 ],
 "metadata": {
  "kernelspec": {
   "display_name": "Python 3",
   "language": "python",
   "name": "python3"
  },
  "language_info": {
   "codemirror_mode": {
    "name": "ipython",
    "version": 3
   },
   "file_extension": ".py",
   "mimetype": "text/x-python",
   "name": "python",
   "nbconvert_exporter": "python",
   "pygments_lexer": "ipython3",
   "version": "3.8.3"
  }
 },
 "nbformat": 4,
 "nbformat_minor": 4
}
