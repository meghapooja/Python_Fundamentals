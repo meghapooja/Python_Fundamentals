{
 "cells": [
  {
   "cell_type": "code",
   "execution_count": 1,
   "metadata": {},
   "outputs": [
    {
     "name": "stdout",
     "output_type": "stream",
     "text": [
      "{'username': 'meghach', 'fname': 'megha', 'lname': 'ch', 'pwd': '1234', 'dob': '01-01-2000'}\n"
     ]
    }
   ],
   "source": [
    "#******************Dict datatype***********************#\n",
    "#for loop implementation by using dict\n",
    "\n",
    "user = {'username':'meghach', 'fname':'megha','lname':'ch','pwd':'1234','dob':'01-01-2000'}\n",
    "print(user)"
   ]
  },
  {
   "cell_type": "code",
   "execution_count": 2,
   "metadata": {},
   "outputs": [
    {
     "data": {
      "text/plain": [
       "dict"
      ]
     },
     "execution_count": 2,
     "metadata": {},
     "output_type": "execute_result"
    }
   ],
   "source": [
    "type(user)"
   ]
  },
  {
   "cell_type": "code",
   "execution_count": 4,
   "metadata": {},
   "outputs": [
    {
     "name": "stdout",
     "output_type": "stream",
     "text": [
      "username\n",
      "meghach\n",
      "fname\n",
      "megha\n",
      "lname\n",
      "ch\n",
      "pwd\n",
      "1234\n",
      "dob\n",
      "01-01-2000\n"
     ]
    }
   ],
   "source": [
    "for key,value in user.items():\n",
    "    print(key)\n",
    "    print(value)"
   ]
  },
  {
   "cell_type": "code",
   "execution_count": 5,
   "metadata": {},
   "outputs": [
    {
     "name": "stdout",
     "output_type": "stream",
     "text": [
      "key:username\n",
      "value:meghach\n",
      "\n",
      "key:fname\n",
      "value:megha\n",
      "\n",
      "key:lname\n",
      "value:ch\n",
      "\n",
      "key:pwd\n",
      "value:1234\n",
      "\n",
      "key:dob\n",
      "value:01-01-2000\n",
      "\n"
     ]
    }
   ],
   "source": [
    "for key,value in user.items():\n",
    "    print(f\"key:{key}\")\n",
    "    print(f\"value:{value}\\n\")"
   ]
  },
  {
   "cell_type": "code",
   "execution_count": 7,
   "metadata": {},
   "outputs": [
    {
     "name": "stdout",
     "output_type": "stream",
     "text": [
      "key:username\n",
      "value:meghach\n",
      "\n",
      "key:fname\n",
      "value:megha\n",
      "\n",
      "key:lname\n",
      "value:ch\n",
      "\n",
      "key:pwd\n",
      "value:1234\n",
      "\n",
      "key:dob\n",
      "value:01-01-2000\n",
      "\n"
     ]
    }
   ],
   "source": [
    "for x,y in user.items():\n",
    "    print(f\"key:{x}\")\n",
    "    print(f\"value:{y}\\n\")"
   ]
  },
  {
   "cell_type": "code",
   "execution_count": 9,
   "metadata": {},
   "outputs": [
    {
     "name": "stdout",
     "output_type": "stream",
     "text": [
      "username\n",
      "fname\n",
      "lname\n",
      "pwd\n",
      "dob\n"
     ]
    }
   ],
   "source": [
    "#requirement is to get only keys in the output\n",
    "\n",
    "for x in user.keys():\n",
    "    print(x)"
   ]
  },
  {
   "cell_type": "code",
   "execution_count": 11,
   "metadata": {},
   "outputs": [
    {
     "name": "stdout",
     "output_type": "stream",
     "text": [
      "meghach\n",
      "megha\n",
      "ch\n",
      "1234\n",
      "01-01-2000\n"
     ]
    }
   ],
   "source": [
    "#requirement is to get only values in the output\n",
    "\n",
    "for x in user.values():\n",
    "    print(x)"
   ]
  },
  {
   "cell_type": "code",
   "execution_count": 12,
   "metadata": {},
   "outputs": [
    {
     "name": "stdout",
     "output_type": "stream",
     "text": [
      "key:username\n",
      "key:fname\n",
      "key:lname\n",
      "key:pwd\n",
      "key:dob\n"
     ]
    }
   ],
   "source": [
    "for x in user.keys():\n",
    "    print(f\"key:{x}\")"
   ]
  },
  {
   "cell_type": "code",
   "execution_count": 14,
   "metadata": {},
   "outputs": [
    {
     "name": "stdout",
     "output_type": "stream",
     "text": [
      "value:meghach\n",
      "value:megha\n",
      "value:ch\n",
      "value:1234\n",
      "value:01-01-2000\n"
     ]
    }
   ],
   "source": [
    "for x in user.values():\n",
    "    print(f\"value:{x}\")"
   ]
  },
  {
   "cell_type": "code",
   "execution_count": null,
   "metadata": {},
   "outputs": [],
   "source": []
  }
 ],
 "metadata": {
  "kernelspec": {
   "display_name": "Python 3",
   "language": "python",
   "name": "python3"
  },
  "language_info": {
   "codemirror_mode": {
    "name": "ipython",
    "version": 3
   },
   "file_extension": ".py",
   "mimetype": "text/x-python",
   "name": "python",
   "nbconvert_exporter": "python",
   "pygments_lexer": "ipython3",
   "version": "3.8.3"
  }
 },
 "nbformat": 4,
 "nbformat_minor": 4
}
