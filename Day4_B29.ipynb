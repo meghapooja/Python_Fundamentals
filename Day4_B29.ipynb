{
 "cells": [
  {
   "cell_type": "code",
   "execution_count": 1,
   "metadata": {},
   "outputs": [
    {
     "name": "stdout",
     "output_type": "stream",
     "text": [
      "['resistor', 'capacitor', 'inductor']\n"
     ]
    }
   ],
   "source": [
    "#list ---> datatype\n",
    "#A list is a collection of items in a particular order.\n",
    "#list ---> mutable datatype.\n",
    "#to define a list we need to use ---> [] - square brackets.\n",
    "\n",
    "components = ['resistor', 'capacitor', 'inductor']\n",
    "print(components)"
   ]
  },
  {
   "cell_type": "code",
   "execution_count": 2,
   "metadata": {},
   "outputs": [
    {
     "data": {
      "text/plain": [
       "list"
      ]
     },
     "execution_count": 2,
     "metadata": {},
     "output_type": "execute_result"
    }
   ],
   "source": [
    "#verification and validation of 'components'\n",
    "\n",
    "type(components)"
   ]
  },
  {
   "cell_type": "code",
   "execution_count": 4,
   "metadata": {},
   "outputs": [
    {
     "name": "stdout",
     "output_type": "stream",
     "text": [
      "resistor\n",
      "capacitor\n",
      "inductor\n"
     ]
    }
   ],
   "source": [
    "#indexing ----> to access the random elements from the list\n",
    "\n",
    "print(components[0])\n",
    "print(components[1])\n",
    "print(components[2])"
   ]
  },
  {
   "cell_type": "code",
   "execution_count": 18,
   "metadata": {},
   "outputs": [
    {
     "name": "stdout",
     "output_type": "stream",
     "text": [
      "['resistor', 'capacitor', 'inductor', 'transistor']\n"
     ]
    }
   ],
   "source": [
    "#adding the elements at the end of the list\n",
    "\n",
    "components.append('transistor')\n",
    "print(components)"
   ]
  },
  {
   "cell_type": "code",
   "execution_count": 19,
   "metadata": {},
   "outputs": [
    {
     "name": "stdout",
     "output_type": "stream",
     "text": [
      "['resistor', 'capacitor', 'inductor', 'transistor', 'transistor']\n"
     ]
    }
   ],
   "source": [
    "components.append('transistor')\n",
    "print(components)"
   ]
  },
  {
   "cell_type": "code",
   "execution_count": 21,
   "metadata": {},
   "outputs": [
    {
     "name": "stdout",
     "output_type": "stream",
     "text": [
      "['resistor', 'transformers', 'transformers', 'capacitor', 'inductor', 'transistor', 'transistor']\n"
     ]
    }
   ],
   "source": [
    "#adding the elements randomly to the list\n",
    "\n",
    "components.insert(1, 'transformers')\n",
    "print(components)"
   ]
  },
  {
   "cell_type": "code",
   "execution_count": 22,
   "metadata": {},
   "outputs": [
    {
     "name": "stdout",
     "output_type": "stream",
     "text": [
      "['resistor', 'transformers', 'transformers', 'capacitor', 'inductor', 'relays', 'transistor']\n"
     ]
    }
   ],
   "source": [
    "#replacing the elements of the list\n",
    "\n",
    "components[5] = 'relays'\n",
    "print(components)"
   ]
  },
  {
   "cell_type": "code",
   "execution_count": 32,
   "metadata": {},
   "outputs": [
    {
     "name": "stdout",
     "output_type": "stream",
     "text": [
      "['resistor', 'transformers', 'capacitor', 'inductor', 'relays', 'transistor']\n"
     ]
    }
   ],
   "source": [
    "#deleting the elements from the list\n",
    "\n",
    "del components[1]\n",
    "print(components)"
   ]
  },
  {
   "cell_type": "code",
   "execution_count": null,
   "metadata": {},
   "outputs": [],
   "source": []
  }
 ],
 "metadata": {
  "kernelspec": {
   "display_name": "Python 3",
   "language": "python",
   "name": "python3"
  },
  "language_info": {
   "codemirror_mode": {
    "name": "ipython",
    "version": 3
   },
   "file_extension": ".py",
   "mimetype": "text/x-python",
   "name": "python",
   "nbconvert_exporter": "python",
   "pygments_lexer": "ipython3",
   "version": "3.8.3"
  }
 },
 "nbformat": 4,
 "nbformat_minor": 4
}
