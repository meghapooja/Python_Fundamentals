{
 "cells": [
  {
   "cell_type": "code",
   "execution_count": 1,
   "metadata": {},
   "outputs": [],
   "source": [
    "#requirement is to organise the elements of the list in Alphabetical order.\n",
    "#to do so we have two methods ---> 1. sort(), 2. sorted()\n",
    "#sort() ----> makes permenant changes.\n",
    "#sorted() ----> changes are made temporarily."
   ]
  },
  {
   "cell_type": "code",
   "execution_count": 2,
   "metadata": {},
   "outputs": [
    {
     "name": "stdout",
     "output_type": "stream",
     "text": [
      "['antman', 'batman', 'captain', 'hulk', 'ironman', 'marvel', 'spiderman', 'thanos', 'thor']\n"
     ]
    }
   ],
   "source": [
    "super_heroes = ['captain','marvel','ironman','hulk','antman','thor','spiderman','batman','thanos']\n",
    "\n",
    "print(sorted(super_heroes))"
   ]
  },
  {
   "cell_type": "code",
   "execution_count": 3,
   "metadata": {},
   "outputs": [
    {
     "name": "stdout",
     "output_type": "stream",
     "text": [
      "['captain', 'marvel', 'ironman', 'hulk', 'antman', 'thor', 'spiderman', 'batman', 'thanos']\n"
     ]
    }
   ],
   "source": [
    "print(super_heroes)"
   ]
  },
  {
   "cell_type": "code",
   "execution_count": 4,
   "metadata": {},
   "outputs": [
    {
     "name": "stdout",
     "output_type": "stream",
     "text": [
      "['antman', 'batman', 'captain', 'hulk', 'ironman', 'marvel', 'spiderman', 'thanos', 'thor']\n"
     ]
    }
   ],
   "source": [
    "super_heroes.sort()\n",
    "print(super_heroes)"
   ]
  },
  {
   "cell_type": "code",
   "execution_count": 5,
   "metadata": {},
   "outputs": [
    {
     "name": "stdout",
     "output_type": "stream",
     "text": [
      "['antman', 'batman', 'captain', 'hulk', 'ironman', 'marvel', 'spiderman', 'thanos', 'thor']\n"
     ]
    }
   ],
   "source": [
    "print(super_heroes)"
   ]
  },
  {
   "cell_type": "code",
   "execution_count": 6,
   "metadata": {},
   "outputs": [
    {
     "name": "stdout",
     "output_type": "stream",
     "text": [
      "['thor', 'thanos', 'spiderman', 'marvel', 'ironman', 'hulk', 'captain', 'batman', 'antman']\n"
     ]
    }
   ],
   "source": [
    "#requirement is to print the list in reverse order\n",
    "\n",
    "super_heroes.reverse()\n",
    "print(super_heroes)"
   ]
  },
  {
   "cell_type": "code",
   "execution_count": 7,
   "metadata": {},
   "outputs": [
    {
     "data": {
      "text/plain": [
       "9"
      ]
     },
     "execution_count": 7,
     "metadata": {},
     "output_type": "execute_result"
    }
   ],
   "source": [
    "#requirement is to count the elements of the list\n",
    "\n",
    "len(super_heroes)"
   ]
  },
  {
   "cell_type": "code",
   "execution_count": 9,
   "metadata": {},
   "outputs": [
    {
     "name": "stdout",
     "output_type": "stream",
     "text": [
      "['apple']\n"
     ]
    }
   ],
   "source": [
    "#********************SLICING***********************#\n",
    "\n",
    "\n",
    "mobiles = ['apple','samsung','nokia','oneplus','redmi','vivo','oppo','lenovo']\n",
    "\n",
    "#requirement is to slice the list into several sub lists with 2 elements each\n",
    "#SLICING - general syntax: var_name[startval:stopval:stepcount]\n",
    "#Slicing is based on the concept of indexing\n",
    "\n",
    "print(mobiles[0:1])\n",
    "\n",
    "#NOTE: last value is always exclusive\n",
    "#i.e, the index value used in the place of stopvalue is always increamented by 1 \n",
    "#for our required values as shown in the above example."
   ]
  },
  {
   "cell_type": "code",
   "execution_count": 10,
   "metadata": {},
   "outputs": [
    {
     "name": "stdout",
     "output_type": "stream",
     "text": [
      "['apple', 'samsung']\n"
     ]
    }
   ],
   "source": [
    "print(mobiles[0:2])"
   ]
  },
  {
   "cell_type": "code",
   "execution_count": 11,
   "metadata": {},
   "outputs": [
    {
     "name": "stdout",
     "output_type": "stream",
     "text": [
      "['nokia', 'oneplus']\n"
     ]
    }
   ],
   "source": [
    "print(mobiles[2:4])"
   ]
  },
  {
   "cell_type": "code",
   "execution_count": 12,
   "metadata": {},
   "outputs": [
    {
     "name": "stdout",
     "output_type": "stream",
     "text": [
      "['redmi', 'vivo']\n"
     ]
    }
   ],
   "source": [
    "print(mobiles[4:6])"
   ]
  },
  {
   "cell_type": "code",
   "execution_count": 13,
   "metadata": {},
   "outputs": [
    {
     "name": "stdout",
     "output_type": "stream",
     "text": [
      "['oppo', 'lenovo']\n"
     ]
    }
   ],
   "source": [
    "print(mobiles[6:8])"
   ]
  },
  {
   "cell_type": "code",
   "execution_count": null,
   "metadata": {},
   "outputs": [],
   "source": [
    "#as the last value is exclusive we use the last_index_Value + 1 to get the required output as shown in the above line."
   ]
  }
 ],
 "metadata": {
  "kernelspec": {
   "display_name": "Python 3",
   "language": "python",
   "name": "python3"
  },
  "language_info": {
   "codemirror_mode": {
    "name": "ipython",
    "version": 3
   },
   "file_extension": ".py",
   "mimetype": "text/x-python",
   "name": "python",
   "nbconvert_exporter": "python",
   "pygments_lexer": "ipython3",
   "version": "3.8.3"
  }
 },
 "nbformat": 4,
 "nbformat_minor": 4
}
