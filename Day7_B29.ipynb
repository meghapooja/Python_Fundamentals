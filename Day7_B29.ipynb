{
 "cells": [
  {
   "cell_type": "code",
   "execution_count": 2,
   "metadata": {},
   "outputs": [
    {
     "name": "stdout",
     "output_type": "stream",
     "text": [
      "keep up the good work, s1.\n",
      "keep up the good work, s2.\n",
      "keep up the good work, s3.\n",
      "keep up the good work, s4.\n",
      "keep up the good work, s5.\n"
     ]
    }
   ],
   "source": [
    "#List -----> Revision\n",
    "\n",
    "students = ['s1','s2','s3','s4','s5']\n",
    "\n",
    "for x in students:\n",
    "    print(f\"keep up the good work, {x}.\")"
   ]
  },
  {
   "cell_type": "code",
   "execution_count": 3,
   "metadata": {},
   "outputs": [
    {
     "name": "stdout",
     "output_type": "stream",
     "text": [
      "keep up the good work, s1.\n",
      "send me your practise files of today as well, s1.\n",
      "keep up the good work, s2.\n",
      "send me your practise files of today as well, s2.\n",
      "keep up the good work, s3.\n",
      "send me your practise files of today as well, s3.\n",
      "keep up the good work, s4.\n",
      "send me your practise files of today as well, s4.\n",
      "keep up the good work, s5.\n",
      "send me your practise files of today as well, s5.\n"
     ]
    }
   ],
   "source": [
    "for x in students:\n",
    "    print(f\"keep up the good work, {x}.\")\n",
    "    print(f\"send me your practise files of today as well, {x}.\")"
   ]
  },
  {
   "cell_type": "code",
   "execution_count": 4,
   "metadata": {},
   "outputs": [
    {
     "name": "stdout",
     "output_type": "stream",
     "text": [
      "keep up the good work, s1.\n",
      "send me your practise files of today as well, s1.\n",
      "\n",
      "keep up the good work, s2.\n",
      "send me your practise files of today as well, s2.\n",
      "\n",
      "keep up the good work, s3.\n",
      "send me your practise files of today as well, s3.\n",
      "\n",
      "keep up the good work, s4.\n",
      "send me your practise files of today as well, s4.\n",
      "\n",
      "keep up the good work, s5.\n",
      "send me your practise files of today as well, s5.\n",
      "\n"
     ]
    }
   ],
   "source": [
    "for x in students:\n",
    "    print(f\"keep up the good work, {x}.\")\n",
    "    print(f\"send me your practise files of today as well, {x}.\\n\")"
   ]
  },
  {
   "cell_type": "code",
   "execution_count": 5,
   "metadata": {},
   "outputs": [
    {
     "name": "stdout",
     "output_type": "stream",
     "text": [
      "(200, 50)\n"
     ]
    }
   ],
   "source": [
    "#********************************TUPLE DataType***************************************#\n",
    "#tuple is defined as an immutable list\n",
    "\n",
    "dimensions = (200,50)\n",
    "print(dimensions)"
   ]
  },
  {
   "cell_type": "code",
   "execution_count": 6,
   "metadata": {},
   "outputs": [
    {
     "data": {
      "text/plain": [
       "tuple"
      ]
     },
     "execution_count": 6,
     "metadata": {},
     "output_type": "execute_result"
    }
   ],
   "source": [
    "type(dimensions)"
   ]
  },
  {
   "cell_type": "code",
   "execution_count": 8,
   "metadata": {},
   "outputs": [
    {
     "name": "stdout",
     "output_type": "stream",
     "text": [
      "(250, 100)\n"
     ]
    }
   ],
   "source": [
    "#immutable means we just can't edit them but we can re-initialize with the same variable name with different values.\n",
    "#thus TUPLE is used only where fixed values are required.\n",
    "\n",
    "dimensions = (250,100)\n",
    "print(dimensions)"
   ]
  },
  {
   "cell_type": "code",
   "execution_count": null,
   "metadata": {},
   "outputs": [],
   "source": []
  }
 ],
 "metadata": {
  "kernelspec": {
   "display_name": "Python 3",
   "language": "python",
   "name": "python3"
  },
  "language_info": {
   "codemirror_mode": {
    "name": "ipython",
    "version": 3
   },
   "file_extension": ".py",
   "mimetype": "text/x-python",
   "name": "python",
   "nbconvert_exporter": "python",
   "pygments_lexer": "ipython3",
   "version": "3.8.3"
  }
 },
 "nbformat": 4,
 "nbformat_minor": 4
}
